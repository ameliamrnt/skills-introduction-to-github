{
  "nbformat": 4,
  "nbformat_minor": 0,
  "metadata": {
    "colab": {
      "provenance": [],
      "authorship_tag": "ABX9TyNGzYWFCogjoanBvgCPjtkK",
      "include_colab_link": true
    },
    "kernelspec": {
      "name": "python3",
      "display_name": "Python 3"
    },
    "language_info": {
      "name": "python"
    }
  },
  "cells": [
    {
      "cell_type": "markdown",
      "metadata": {
        "id": "view-in-github",
        "colab_type": "text"
      },
      "source": [
        "<a href=\"https://colab.research.google.com/github/ameliamrnt/skills-introduction-to-github/blob/main/Poin_Absen_Tugure_(final).ipynb\" target=\"_parent\"><img src=\"https://colab.research.google.com/assets/colab-badge.svg\" alt=\"Open In Colab\"/></a>"
      ]
    },
    {
      "cell_type": "code",
      "source": [
        "import pandas as pd\n",
        "\n",
        "# Langkah 1: Load Data\n",
        "data = pd.read_excel('attendance-report2024-10-01_2024-10-15_Wwf00nDHdiHiX0qWzLgnM2JCFvHAKfEF2738 (1).xls')\n",
        "\n",
        "# Langkah 2: Filter Data\n",
        "data_filtered = data[\n",
        "    ((data['Attendance Code'] == 'H') | (data['Attendance Code'].isna())) &\n",
        "    ((data['Shift'] == 'Office1') | (data['Shift'] == 'Office2'))\n",
        "].copy()  # Salin data untuk menghindari SettingWithCopyWarning\n",
        "\n",
        "# Fungsi untuk menghitung poin-poin\n",
        "def calculate_points_and_columns(row):\n",
        "    poin_telat = 0\n",
        "    poin_pulang = 0\n",
        "    poin_kosong_in = 0\n",
        "    poin_kosong_out = 0\n",
        "    poin_50 = 0\n",
        "\n",
        "    try:\n",
        "        # Ambil nilai kolom 'Late In', 'Early Out', dan 'Check In'\n",
        "        late_in = row['Late In']\n",
        "        early_out = row['Early Out']\n",
        "        check_in_time = pd.to_datetime(row['Check In'], format='%H:%M', errors='coerce')\n",
        "        check_in_time = check_in_time.time() if not pd.isna(check_in_time) else pd.to_datetime('00:00', format='%H:%M').time()\n",
        "\n",
        "        # Kasus 50: Tidak check in dan check out\n",
        "        if pd.isna(row['Check In']) and pd.isna(row['Check Out']):\n",
        "            poin_50 = 50\n",
        "        # Kasus 3: Tidak check in atau tidak check out\n",
        "        elif pd.isna(row['Check In']) or pd.isna(row['Check Out']):\n",
        "            if pd.isna(row['Check In']):\n",
        "                poin_kosong_in = 3\n",
        "            if pd.isna(row['Check Out']):\n",
        "                poin_kosong_out = 3\n",
        "            if late_in != '00:00':\n",
        "                poin_telat = 2\n",
        "            if early_out != '00:00':\n",
        "                poin_pulang = 2\n",
        "        else:\n",
        "            # Poin 2 jika Check In lebih dari 12:00 atau Late In tidak '00:00'\n",
        "            if check_in_time > pd.to_datetime('12:00', format='%H:%M').time():\n",
        "                poin_telat = 2\n",
        "            if late_in != '00:00':\n",
        "                poin_telat = 2\n",
        "            # Poin 2 jika Early Out tidak '00:00'\n",
        "            if early_out != '00:00':\n",
        "                poin_pulang = 2\n",
        "\n",
        "        # Hitung total poin\n",
        "        total_poin = poin_kosong_in + poin_kosong_out + poin_telat + poin_pulang + poin_50\n",
        "    except Exception as e:\n",
        "        print(f\"Error in row {row.name}: {e}\")\n",
        "        total_poin = -1\n",
        "\n",
        "    return pd.Series([poin_telat, poin_pulang, poin_kosong_in, poin_kosong_out, poin_50, total_poin])\n",
        "\n",
        "# Langkah 3: Pastikan Kolom 'Late In' dan 'Early Out' Berisi String\n",
        "data_filtered['Late In'] = data_filtered['Late In'].fillna('00:00').astype(str)\n",
        "data_filtered['Early Out'] = data_filtered['Early Out'].fillna('00:00').astype(str)\n",
        "\n",
        "# Langkah 4: Hitung Poin dan Tambahkan Kolom Baru\n",
        "columns = ['poin telat', 'poin pulang', 'poin kosong in', 'poin kosong out', 'poin 50', 'total poin']\n",
        "data_filtered[columns] = data_filtered.apply(calculate_points_and_columns, axis=1)\n",
        "\n",
        "# Langkah 5: Buat Pivot Table\n",
        "pivot_table = data_filtered.pivot_table(\n",
        "    index=['Full Name', 'Job Position'],  # Ganti dengan nama kolom yang sesuai\n",
        "    values='total poin',\n",
        "    aggfunc='sum'\n",
        ").reset_index()\n",
        "\n",
        "# Langkah 6: Simpan ke File Excel dengan Dua Sheet\n",
        "with pd.ExcelWriter('attendance_summary_with_pivot.xlsx', engine='openpyxl') as writer:\n",
        "    # Sheet 1: Data lengkap dengan semua kolom\n",
        "    data_filtered.to_excel(writer, sheet_name='Detail Points', index=False)\n",
        "    # Sheet 2: Pivot table dengan Full Name, Job Position, dan total poin\n",
        "    pivot_table.to_excel(writer, sheet_name='Pivot Table', index=False)\n",
        "\n",
        "print(\"Data sudah disimpan sebagai 'attendance_summary_with_pivot.xlsx'\")\n"
      ],
      "metadata": {
        "colab": {
          "base_uri": "https://localhost:8080/"
        },
        "id": "yUDg2wc8MhhB",
        "outputId": "a7b1e247-f15e-4bb3-954e-8df708907cdd"
      },
      "execution_count": null,
      "outputs": [
        {
          "output_type": "stream",
          "name": "stdout",
          "text": [
            "Data sudah disimpan sebagai 'attendance_summary_with_pivot.xlsx'\n"
          ]
        }
      ]
    },
    {
      "cell_type": "code",
      "source": [
        "import pandas as pd\n",
        "\n",
        "# Langkah 1: Load Data\n",
        "data = pd.read_excel('attendance-report2024-10-01_2024-10-15_Wwf00nDHdiHiX0qWzLgnM2JCFvHAKfEF2738 (1).xls')\n",
        "\n",
        "# Langkah 2: Filter Data\n",
        "data_filtered = data[\n",
        "    ((data['Attendance Code'] == 'H') | (data['Attendance Code'].isna())) &\n",
        "    ((data['Shift'] == 'Office1') | (data['Shift'] == 'Office2'))\n",
        "].copy()  # Salin data untuk menghindari SettingWithCopyWarning\n",
        "\n",
        "# Fungsi untuk menghitung poin-poin\n",
        "def calculate_points_and_columns(row):\n",
        "    poin_telat = 0\n",
        "    poin_pulang = 0\n",
        "    poin_kosong_in = 0\n",
        "    poin_kosong_out = 0\n",
        "    poin_50 = 0\n",
        "\n",
        "    try:\n",
        "        # Ambil nilai kolom 'Late In', 'Early Out', dan 'Check In'\n",
        "        late_in = row['Late In']\n",
        "        early_out = row['Early Out']\n",
        "        check_in_time = pd.to_datetime(row['Check In'], format='%H:%M', errors='coerce')\n",
        "        check_in_time = check_in_time.time() if not pd.isna(check_in_time) else pd.to_datetime('00:00', format='%H:%M').time()\n",
        "\n",
        "        # Kasus 3: Tidak check in atau tidak check out\n",
        "        if pd.isna(row['Check In']) or pd.isna(row['Check Out']):\n",
        "            if pd.isna(row['Check In']):\n",
        "                poin_kosong_in = 3\n",
        "            if pd.isna(row['Check Out']):\n",
        "                poin_kosong_out = 3\n",
        "            if late_in != '00:00':\n",
        "                poin_telat = 2\n",
        "            if early_out != '00:00':\n",
        "                poin_pulang = 2\n",
        "        else:\n",
        "            # Poin 2 jika Check In lebih dari 12:00 atau Late In tidak '00:00'\n",
        "            if check_in_time > pd.to_datetime('12:00', format='%H:%M').time():\n",
        "                poin_telat = 2\n",
        "            if late_in != '00:00':\n",
        "                poin_telat = 2\n",
        "            # Poin 2 jika Early Out tidak '00:00'\n",
        "            if early_out != '00:00':\n",
        "                poin_pulang = 2\n",
        "\n",
        "        # Hitung total poin\n",
        "        total_poin = poin_kosong_in + poin_kosong_out + poin_telat + poin_pulang + poin_50\n",
        "    except Exception as e:\n",
        "        print(f\"Error in row {row.name}: {e}\")\n",
        "        total_poin = -1\n",
        "\n",
        "    return pd.Series([poin_telat, poin_pulang, poin_kosong_in, poin_kosong_out, poin_50, total_poin])\n",
        "\n",
        "# Langkah 3: Pastikan Kolom 'Late In' dan 'Early Out' Berisi String\n",
        "data_filtered['Late In'] = data_filtered['Late In'].fillna('00:00').astype(str)\n",
        "data_filtered['Early Out'] = data_filtered['Early Out'].fillna('00:00').astype(str)\n",
        "\n",
        "# Langkah 4: Hitung Poin dan Tambahkan Kolom Baru\n",
        "columns = ['poin telat', 'poin pulang', 'poin kosong in', 'poin kosong out', 'poin 50', 'total poin']\n",
        "data_filtered[columns] = data_filtered.apply(calculate_points_and_columns, axis=1)\n",
        "\n",
        "# Langkah 5: Buat Pivot Table\n",
        "pivot_table = data_filtered.pivot_table(\n",
        "    index=['Full Name', 'Job Position'],  # Ganti dengan nama kolom yang sesuai\n",
        "    values='total poin',\n",
        "    aggfunc='sum'\n",
        ").reset_index()\n",
        "\n",
        "# Langkah 6: Simpan ke File Excel dengan Dua Sheet\n",
        "with pd.ExcelWriter('attendance_summary_with_pivot2.xlsx', engine='openpyxl') as writer:\n",
        "    # Sheet 1: Data lengkap dengan semua kolom\n",
        "    data_filtered.to_excel(writer, sheet_name='Detail Points', index=False)\n",
        "    # Sheet 2: Pivot table dengan Full Name, Job Position, dan total poin\n",
        "    pivot_table.to_excel(writer, sheet_name='Pivot Table', index=False)\n",
        "\n",
        "print(\"Data sudah disimpan sebagai 'attendance_summary_with_pivot2.xlsx'\")\n"
      ],
      "metadata": {
        "colab": {
          "base_uri": "https://localhost:8080/"
        },
        "id": "PsT9VFZ5Pt0w",
        "outputId": "b6dca0d3-5387-4f30-f51b-d945577bd4fe"
      },
      "execution_count": null,
      "outputs": [
        {
          "output_type": "stream",
          "name": "stdout",
          "text": [
            "Data sudah disimpan sebagai 'attendance_summary_with_pivot2.xlsx'\n"
          ]
        }
      ]
    }
  ]
}